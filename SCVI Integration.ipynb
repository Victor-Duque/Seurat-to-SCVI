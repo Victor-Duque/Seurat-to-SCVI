{
 "cells": [
  {
   "cell_type": "code",
   "execution_count": null,
   "id": "011b2e55",
   "metadata": {},
   "outputs": [],
   "source": [
    "#Script Based on: https://github.com/mousepixels/sanbomics_scripts/blob/main/scVI_tools_introduction.ipynb"
   ]
  },
  {
   "cell_type": "markdown",
   "id": "680270d1",
   "metadata": {},
   "source": [
    "#dependencies\n",
    "!pip install scvi-tools\n",
    "!pip install scikit-misc\n",
    "!pip install scanpy\n",
    "!pip install leidenalg"
   ]
  },
  {
   "cell_type": "code",
   "execution_count": null,
   "id": "e5871930",
   "metadata": {},
   "outputs": [],
   "source": [
    "import scvi\n",
    "import scanpy as sc\n",
    "from scipy import io\n",
    "import anndata\n",
    "import pandas as pd\n",
    "import matplotlib.pyplot as plt\n",
    "\n",
    "from matplotlib.pyplot import rc_context\n",
    "sc.set_figure_params(dpi=100)"
   ]
  },
  {
   "cell_type": "code",
   "execution_count": null,
   "id": "1211bde3",
   "metadata": {},
   "outputs": [],
   "source": [
    "X = io.mmread(\"Data_counts.mtx\")\n",
    "\n",
    "# create anndata object\n",
    "adata = anndata.AnnData(X=X.transpose().tocsr())\n",
    "\n",
    "# load cell metadata:\n",
    "cell_meta = pd.read_csv(\"Data_metadata.csv\")\n",
    "\n",
    "# load gene names:\n",
    "with open(\"Data_gene_names.csv\", 'r') as f:\n",
    "    gene_names = f.read().splitlines()\n",
    "\n",
    "# set anndata observations and index obs by barcodes, var by gene names\n",
    "adata.obs = cell_meta\n",
    "adata.obs.index = adata.obs['barcode']\n",
    "adata.var.index = gene_names\n",
    "\n",
    "# save dataset as anndata format\n",
    "adata.write('Data_Python.h5ad')"
   ]
  },
  {
   "cell_type": "markdown",
   "id": "cd1c6dca",
   "metadata": {},
   "source": [
    "#If you need to do the QC\n",
    "sc.pp.filter_cells(adata, min_genes = 200)\n",
    "sc.pp.filter_genes(adata, min_cells = 3)\n",
    "adata.var['mt'] = adata.var_names.str.startswith('mt-')\n",
    "sc.pp.calculate_qc_metrics(adata, qc_vars = ['mt'], percent_top = None, log1p = False, inplace = True)\n",
    "adata = adata[adata.obs.pct_counts_mt < 15]"
   ]
  },
  {
   "cell_type": "code",
   "execution_count": null,
   "id": "2ff4e250",
   "metadata": {},
   "outputs": [],
   "source": [
    "adata.layers['counts'] = adata.X.copy() #IMPORTANT, this is used by scVI. This will not change\n",
    "sc.pp.normalize_total(adata, target_sum = 1e4)\n",
    "sc.pp.log1p(adata)\n",
    "adata.raw = adata"
   ]
  },
  {
   "cell_type": "code",
   "execution_count": null,
   "id": "7d445202",
   "metadata": {},
   "outputs": [],
   "source": [
    "sc.pp.highly_variable_genes(adata, n_top_genes=2000, subset = True, layer = 'counts',\n",
    "                           flavor = \"seurat_v3\", batch_key=\"Age\") #no batch_key if one sample\n",
    "\n",
    "scvi.model.SCVI.setup_anndata(adata, layer = \"counts\",\n",
    "                             categorical_covariate_keys=[\"Age\"],\n",
    "                             continuous_covariate_keys=['percent.mt', 'nCount_RNA'])\n",
    "model = scvi.model.SCVI(adata)\n",
    "model.train() #may take a while without GPU"
   ]
  },
  {
   "cell_type": "code",
   "execution_count": null,
   "id": "012bedee",
   "metadata": {},
   "outputs": [],
   "source": [
    "latent = model.get_latent_representation() #this is what you will use to cluster now instead of PCs like normal\n",
    "latent.shape\n",
    "adata.obsm['X_scVI'] = latent\n",
    "adata.layers['scvi_normalized'] = model.get_normalized_expression(library_size = 1e4)\n",
    "sc.pp.neighbors(adata, use_rep = 'X_scVI')\n",
    "sc.tl.umap(adata)\n",
    "sc.tl.leiden(adata, resolution = 0.5)"
   ]
  },
  {
   "cell_type": "code",
   "execution_count": null,
   "id": "ec215245",
   "metadata": {},
   "outputs": [],
   "source": [
    "with plt.rc_context({'figure.figsize': (4, 4)}):\n",
    "    sc.pl.umap(adata, color=['leiden', 'Age'], frameon=False)\n",
    "    # Salvar a figura\n",
    "    plt.savefig('umap_plot.png')"
   ]
  },
  {
   "cell_type": "code",
   "execution_count": null,
   "id": "82cacfa8",
   "metadata": {},
   "outputs": [],
   "source": [
    "#find markers of each cluster\n",
    "df = model.differential_expression(groupby = 'leiden')\n",
    "df\n",
    "markers = {}\n",
    "for c in adata.obs.leiden.cat.categories:\n",
    "    cell_df = df.loc[df.group1 == c]\n",
    "    markers[c] = cell_df.index.tolist()[:2]\n",
    "sc.pl.dotplot(adata, markers, groupby = 'leiden', swap_axes = True,\n",
    "             use_raw = True, standard_scale = 'var', dendrogram = True, save = \"dotplot.png\")"
   ]
  }
 ],
 "metadata": {
  "kernelspec": {
   "display_name": "Python 3 (ipykernel)",
   "language": "python",
   "name": "python3"
  },
  "language_info": {
   "codemirror_mode": {
    "name": "ipython",
    "version": 3
   },
   "file_extension": ".py",
   "mimetype": "text/x-python",
   "name": "python",
   "nbconvert_exporter": "python",
   "pygments_lexer": "ipython3",
   "version": "3.9.18"
  }
 },
 "nbformat": 4,
 "nbformat_minor": 5
}
